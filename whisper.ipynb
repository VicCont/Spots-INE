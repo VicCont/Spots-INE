{
  "cells": [
    {
      "cell_type": "markdown",
      "metadata": {
        "id": "gJMosXCKCVeJ"
      },
      "source": [
        "\n",
        "\n",
        "# Whisper\n"
      ]
    },
    {
      "cell_type": "markdown",
      "source": [],
      "metadata": {
        "id": "3Pf_08bahNhL"
      }
    },
    {
      "cell_type": "code",
      "source": [
        "from google.colab import drive\n",
        "drive.mount('/content/drive')"
      ],
      "metadata": {
        "colab": {
          "base_uri": "https://localhost:8080/"
        },
        "id": "iny67IpFkwPB",
        "outputId": "4e0f8360-303c-48d3-b4d6-e72bacba7056"
      },
      "execution_count": null,
      "outputs": [
        {
          "output_type": "stream",
          "name": "stdout",
          "text": [
            "Mounted at /content/drive\n"
          ]
        }
      ]
    },
    {
      "cell_type": "code",
      "source": [
        "pip install -U openai-whisper\n"
      ],
      "metadata": {
        "colab": {
          "base_uri": "https://localhost:8080/"
        },
        "id": "3oJdbw2aGt_G",
        "outputId": "d6874bc3-d540-46ed-a919-a76eb689f5b5",
        "collapsed": true
      },
      "execution_count": null,
      "outputs": [
        {
          "output_type": "stream",
          "name": "stdout",
          "text": [
            "Collecting openai-whisper\n",
            "  Downloading openai-whisper-20231117.tar.gz (798 kB)\n",
            "\u001b[?25l     \u001b[90m━━━━━━━━━━━━━━━━━━━━━━━━━━━━━━━━━━━━━━━━\u001b[0m \u001b[32m0.0/798.6 kB\u001b[0m \u001b[31m?\u001b[0m eta \u001b[36m-:--:--\u001b[0m\r\u001b[2K     \u001b[91m━━━━━━━━━━━━\u001b[0m\u001b[91m╸\u001b[0m\u001b[90m━━━━━━━━━━━━━━━━━━━━━━━━━━━\u001b[0m \u001b[32m256.0/798.6 kB\u001b[0m \u001b[31m7.5 MB/s\u001b[0m eta \u001b[36m0:00:01\u001b[0m\r\u001b[2K     \u001b[91m━━━━━━━━━━━━━━━━━━━━━━━━━━━━━━━━━━━━━\u001b[0m\u001b[91m╸\u001b[0m\u001b[90m━━\u001b[0m \u001b[32m757.8/798.6 kB\u001b[0m \u001b[31m11.3 MB/s\u001b[0m eta \u001b[36m0:00:01\u001b[0m\r\u001b[2K     \u001b[90m━━━━━━━━━━━━━━━━━━━━━━━━━━━━━━━━━━━━━━━━\u001b[0m \u001b[32m798.6/798.6 kB\u001b[0m \u001b[31m9.8 MB/s\u001b[0m eta \u001b[36m0:00:00\u001b[0m\n",
            "\u001b[?25h  Installing build dependencies ... \u001b[?25l\u001b[?25hdone\n",
            "  Getting requirements to build wheel ... \u001b[?25l\u001b[?25hdone\n",
            "  Preparing metadata (pyproject.toml) ... \u001b[?25l\u001b[?25hdone\n",
            "Requirement already satisfied: triton<3,>=2.0.0 in /usr/local/lib/python3.10/dist-packages (from openai-whisper) (2.2.0)\n",
            "Requirement already satisfied: numba in /usr/local/lib/python3.10/dist-packages (from openai-whisper) (0.58.1)\n",
            "Requirement already satisfied: numpy in /usr/local/lib/python3.10/dist-packages (from openai-whisper) (1.25.2)\n",
            "Requirement already satisfied: torch in /usr/local/lib/python3.10/dist-packages (from openai-whisper) (2.2.1+cu121)\n",
            "Requirement already satisfied: tqdm in /usr/local/lib/python3.10/dist-packages (from openai-whisper) (4.66.4)\n",
            "Requirement already satisfied: more-itertools in /usr/local/lib/python3.10/dist-packages (from openai-whisper) (10.1.0)\n",
            "Collecting tiktoken (from openai-whisper)\n",
            "  Downloading tiktoken-0.6.0-cp310-cp310-manylinux_2_17_x86_64.manylinux2014_x86_64.whl (1.8 MB)\n",
            "\u001b[2K     \u001b[90m━━━━━━━━━━━━━━━━━━━━━━━━━━━━━━━━━━━━━━━━\u001b[0m \u001b[32m1.8/1.8 MB\u001b[0m \u001b[31m18.4 MB/s\u001b[0m eta \u001b[36m0:00:00\u001b[0m\n",
            "\u001b[?25hRequirement already satisfied: filelock in /usr/local/lib/python3.10/dist-packages (from triton<3,>=2.0.0->openai-whisper) (3.14.0)\n",
            "Requirement already satisfied: llvmlite<0.42,>=0.41.0dev0 in /usr/local/lib/python3.10/dist-packages (from numba->openai-whisper) (0.41.1)\n",
            "Requirement already satisfied: regex>=2022.1.18 in /usr/local/lib/python3.10/dist-packages (from tiktoken->openai-whisper) (2023.12.25)\n",
            "Requirement already satisfied: requests>=2.26.0 in /usr/local/lib/python3.10/dist-packages (from tiktoken->openai-whisper) (2.31.0)\n",
            "Requirement already satisfied: typing-extensions>=4.8.0 in /usr/local/lib/python3.10/dist-packages (from torch->openai-whisper) (4.11.0)\n",
            "Requirement already satisfied: sympy in /usr/local/lib/python3.10/dist-packages (from torch->openai-whisper) (1.12)\n",
            "Requirement already satisfied: networkx in /usr/local/lib/python3.10/dist-packages (from torch->openai-whisper) (3.3)\n",
            "Requirement already satisfied: jinja2 in /usr/local/lib/python3.10/dist-packages (from torch->openai-whisper) (3.1.3)\n",
            "Requirement already satisfied: fsspec in /usr/local/lib/python3.10/dist-packages (from torch->openai-whisper) (2023.6.0)\n",
            "Collecting nvidia-cuda-nvrtc-cu12==12.1.105 (from torch->openai-whisper)\n",
            "  Using cached nvidia_cuda_nvrtc_cu12-12.1.105-py3-none-manylinux1_x86_64.whl (23.7 MB)\n",
            "Collecting nvidia-cuda-runtime-cu12==12.1.105 (from torch->openai-whisper)\n",
            "  Using cached nvidia_cuda_runtime_cu12-12.1.105-py3-none-manylinux1_x86_64.whl (823 kB)\n",
            "Collecting nvidia-cuda-cupti-cu12==12.1.105 (from torch->openai-whisper)\n",
            "  Using cached nvidia_cuda_cupti_cu12-12.1.105-py3-none-manylinux1_x86_64.whl (14.1 MB)\n",
            "Collecting nvidia-cudnn-cu12==8.9.2.26 (from torch->openai-whisper)\n",
            "  Using cached nvidia_cudnn_cu12-8.9.2.26-py3-none-manylinux1_x86_64.whl (731.7 MB)\n",
            "Collecting nvidia-cublas-cu12==12.1.3.1 (from torch->openai-whisper)\n",
            "  Using cached nvidia_cublas_cu12-12.1.3.1-py3-none-manylinux1_x86_64.whl (410.6 MB)\n",
            "Collecting nvidia-cufft-cu12==11.0.2.54 (from torch->openai-whisper)\n",
            "  Using cached nvidia_cufft_cu12-11.0.2.54-py3-none-manylinux1_x86_64.whl (121.6 MB)\n",
            "Collecting nvidia-curand-cu12==10.3.2.106 (from torch->openai-whisper)\n",
            "  Using cached nvidia_curand_cu12-10.3.2.106-py3-none-manylinux1_x86_64.whl (56.5 MB)\n",
            "Collecting nvidia-cusolver-cu12==11.4.5.107 (from torch->openai-whisper)\n",
            "  Using cached nvidia_cusolver_cu12-11.4.5.107-py3-none-manylinux1_x86_64.whl (124.2 MB)\n",
            "Collecting nvidia-cusparse-cu12==12.1.0.106 (from torch->openai-whisper)\n",
            "  Using cached nvidia_cusparse_cu12-12.1.0.106-py3-none-manylinux1_x86_64.whl (196.0 MB)\n",
            "Collecting nvidia-nccl-cu12==2.19.3 (from torch->openai-whisper)\n",
            "  Using cached nvidia_nccl_cu12-2.19.3-py3-none-manylinux1_x86_64.whl (166.0 MB)\n",
            "Collecting nvidia-nvtx-cu12==12.1.105 (from torch->openai-whisper)\n",
            "  Using cached nvidia_nvtx_cu12-12.1.105-py3-none-manylinux1_x86_64.whl (99 kB)\n",
            "Collecting nvidia-nvjitlink-cu12 (from nvidia-cusolver-cu12==11.4.5.107->torch->openai-whisper)\n",
            "  Using cached nvidia_nvjitlink_cu12-12.4.127-py3-none-manylinux2014_x86_64.whl (21.1 MB)\n",
            "Requirement already satisfied: charset-normalizer<4,>=2 in /usr/local/lib/python3.10/dist-packages (from requests>=2.26.0->tiktoken->openai-whisper) (3.3.2)\n",
            "Requirement already satisfied: idna<4,>=2.5 in /usr/local/lib/python3.10/dist-packages (from requests>=2.26.0->tiktoken->openai-whisper) (3.7)\n",
            "Requirement already satisfied: urllib3<3,>=1.21.1 in /usr/local/lib/python3.10/dist-packages (from requests>=2.26.0->tiktoken->openai-whisper) (2.0.7)\n",
            "Requirement already satisfied: certifi>=2017.4.17 in /usr/local/lib/python3.10/dist-packages (from requests>=2.26.0->tiktoken->openai-whisper) (2024.2.2)\n",
            "Requirement already satisfied: MarkupSafe>=2.0 in /usr/local/lib/python3.10/dist-packages (from jinja2->torch->openai-whisper) (2.1.5)\n",
            "Requirement already satisfied: mpmath>=0.19 in /usr/local/lib/python3.10/dist-packages (from sympy->torch->openai-whisper) (1.3.0)\n",
            "Building wheels for collected packages: openai-whisper\n",
            "  Building wheel for openai-whisper (pyproject.toml) ... \u001b[?25l\u001b[?25hdone\n",
            "  Created wheel for openai-whisper: filename=openai_whisper-20231117-py3-none-any.whl size=801358 sha256=db54543406cbd2a8b23d11ddf23b517166ca1ec49232f1767cf629ac913843ec\n",
            "  Stored in directory: /root/.cache/pip/wheels/d0/85/e1/9361b4cbea7dd4b7f6702fa4c3afc94877952eeb2b62f45f56\n",
            "Successfully built openai-whisper\n",
            "Installing collected packages: nvidia-nvtx-cu12, nvidia-nvjitlink-cu12, nvidia-nccl-cu12, nvidia-curand-cu12, nvidia-cufft-cu12, nvidia-cuda-runtime-cu12, nvidia-cuda-nvrtc-cu12, nvidia-cuda-cupti-cu12, nvidia-cublas-cu12, tiktoken, nvidia-cusparse-cu12, nvidia-cudnn-cu12, nvidia-cusolver-cu12, openai-whisper\n",
            "Successfully installed nvidia-cublas-cu12-12.1.3.1 nvidia-cuda-cupti-cu12-12.1.105 nvidia-cuda-nvrtc-cu12-12.1.105 nvidia-cuda-runtime-cu12-12.1.105 nvidia-cudnn-cu12-8.9.2.26 nvidia-cufft-cu12-11.0.2.54 nvidia-curand-cu12-10.3.2.106 nvidia-cusolver-cu12-11.4.5.107 nvidia-cusparse-cu12-12.1.0.106 nvidia-nccl-cu12-2.19.3 nvidia-nvjitlink-cu12-12.4.127 nvidia-nvtx-cu12-12.1.105 openai-whisper-20231117 tiktoken-0.6.0\n"
          ]
        }
      ]
    },
    {
      "cell_type": "code",
      "execution_count": null,
      "metadata": {
        "id": "U7YPLDBuJGP6",
        "colab": {
          "base_uri": "https://localhost:8080/"
        },
        "outputId": "434bde84-7dc2-4978-f712-02be1ac990f9"
      },
      "outputs": [
        {
          "output_type": "stream",
          "name": "stderr",
          "text": [
            "100%|█████████████████████████████████████| 2.88G/2.88G [00:53<00:00, 57.8MiB/s]\n"
          ]
        }
      ],
      "source": [
        "import whisper\n",
        "import pickle\n",
        "model = whisper.load_model(\"large\")\n",
        "pendientes=[\"RV00464-24\",\"RV00875-24\",\"RV00904-24\",\"RV00973-24\",\"RV00975-24\",\"RV01010-24\",\"RV01011-24\",\"RV01115-24\",\"RV01116-24\",\"RV01240-24\",\"RV01325-24\",\"RV01668-24\",\"RV01670-24\",\"RV01671-24\",\"RV00685-24\",\"RV00900-24\",\"RV00937-24\",\"RV01522-24\",\"RV01533-24\",\"RV01816-24\",\"RV01856-24\",\"RV02128-24\",\"RV00709-24\",\"RV00834-24\",\"RV01865-24\",\"RV01869-24\",\"RV01275-24\",\"RV01224-24\",\"RV00778-24\",\"RV01655-24\",\"RV01754-24\",\"RV01946-24\",\"RV01485-24\",\"RV01140-24\",\"RV01140-24\",\"RV01777-24\"]\n"
      ]
    },
    {
      "cell_type": "code",
      "source": [
        "x='drive/MyDrive/audios/RV00464-24.mp3'\n",
        "print(os.path.exists(x))\n",
        "transcription=model.transcribe(x)\n",
        "print(transcription['text'])\n"
      ],
      "metadata": {
        "colab": {
          "base_uri": "https://localhost:8080/"
        },
        "id": "A18wGwYyoM5G",
        "outputId": "d69f3252-52a9-4510-fe40-88d18b439b20"
      },
      "execution_count": null,
      "outputs": [
        {
          "output_type": "stream",
          "name": "stdout",
          "text": [
            "True\n",
            " ¿Sabes qué pasa cuando le ponemos el doble de ganas a lo que hacemos? Las sonrisas se multiplican. Y Querétaro brilla más. Y cuando le ponemos el doble de experiencia, los resultados se ven y se sienten. Somos Lupita Murguía y Agustín Dorantes. Y cuentas con nuestro doble compromiso para que a Querétaro y a tu familia les vaya mejor. Lupita Murguía y Agustín Dorantes, candidatos al Senado por Querétaro. Coalición, fuerza y corazón por México. Por un México sin miedo. Llegó la hora de avanzar. Vota PAN.\n"
          ]
        }
      ]
    },
    {
      "cell_type": "code",
      "source": [
        "base='drive/MyDrive/audios/audios'\n",
        "audios=[]\n",
        "import os\n",
        "import pickle\n",
        "\n",
        "index={}\n",
        "indexFile='drive/MyDrive/audios/index.pkl'\n",
        "if os.path.exists(indexFile):\n",
        "    file=open(indexFile,'rb+')\n",
        "    index=pickle.load(file)\n",
        "    file.close()\n",
        "\n",
        "for x in os.listdir(base):\n",
        "    directorio=f\"{base}/{x}\"\n",
        "    for video in os.listdir(directorio) :\n",
        "        if video.endswith('.mp3') and f'{directorio}/{video}' not in index:\n",
        "          # if (video[:video.find('.')]) in pendientes:\n",
        "          audios.append(f'{directorio}/{video}')\n",
        "print(len(audios))\n",
        "for x in audios:\n",
        "  print(os.path.exists(x))\n",
        "  transcription=model.transcribe(x)\n",
        "  index[x]=transcription['text']\n",
        "  print(transcription['text'])\n",
        "  with open(indexFile,'wb+') as file:\n",
        "      pickle.dump(index,file)\n",
        "\n",
        "\n",
        "\n",
        "\n",
        "\n"
      ],
      "metadata": {
        "colab": {
          "base_uri": "https://localhost:8080/"
        },
        "id": "DM1dJzw4m5SS",
        "outputId": "2fafa7b9-54d2-4334-c54e-c6d49288c3c9"
      },
      "execution_count": null,
      "outputs": [
        {
          "output_type": "stream",
          "name": "stdout",
          "text": [
            "25\n",
            "True\n",
            " Antes podíamos salir a cualquier hora sin peligro. Y la verdad es que se han incrementado los asaltos. En las noches siempre me siento insegura. Jalisco es un estado hermoso. No puede ser que la gente viva con miedo de salir a las calles. Necesitamos un líder de verdad. Es hora de garantizar seguridad y tranquilidad para todas y todos los jaliscienses. No más miedo. Paco Ramírez Acuña, candidato a senador por Jalisco de la coalición Fuerza y Corazón por México. Por un México sin miedo llegó la hora del cambio. Vota PAN.\n",
            "True\n",
            " Paola tiene una disciplina inquebrantable. Paco trajo crecimiento y desarrollo para Jalisco. Necesitamos a personas como Paola, exitosas. Y Paco conoce las verdaderas necesidades de Jalisco. Ella es Paola Espinosa. Y él, Paco Ramírez Acuña. Paola Espinosa, candidata a diputada federal Distrito 8 por Jalisco de la Coalición Fuerza y Corazón por México. Paco Ramírez Acuña, candidato a senador por Jalisco de la Coalición Fuerza y Corazón por México. Por un México sin miedo, llegó la hora del cambio. Vota PAN.\n",
            "True\n",
            " Somos Lupita Murguía y Agustín Dorantes y tú ya nos conoces. Juntos hemos visto programas exitosos de los gobiernos del PAN. Como la tarifa de transporte de dos pesos. El seguro de desempleo y el apoyo a las mujeres vulnerables. Pero tu familia merece más. Por eso tendrás más apoyo alimentario. Y más médicos y medicinas todo el tiempo. Lupita Murguía y Agustín Dorantes, candidatos al Senado por Querétaro. Coalición, fuerza y corazón por México. Por un México sin miedo. Llegó la hora de avanzar. Vota PAN.\n",
            "True\n",
            " Dile a tus abuelos que no se preocupen. Diles que nadie les va a quitar la pensión después de las elecciones. No dejes que los amenacen. Tus abuelitos ya son grandes y merecen estar tranquilos para que vivan más. En Sonora no aceptamos las mentiras. Vamos por la verdad. Lili Telles, candidata al Senado por Sonora de la coalición Fuerza y Corazón por México. Por un México sin miedo llegó la hora del cambio. Vota PAN. Vota PAN.\n",
            "True\n",
            " de la Guardia Nacional. Que tengan un mando civil que los respalde para que capturen a los malos y a ti te protejan. En Sonora ya no vamos a esperar por seguridad. Vamos por ella. Lili Tellez, candidata al Senado por Sonora de la coalición Fuerza y Corazón por México. Por un México sin miedo llegó la hora del cambio. Vota PAN. Vota PAN.\n",
            "True\n",
            " ¿Sabes qué pasa cuando le ponemos el doble de ganas a lo que hacemos? Las sonrisas se multiplican. Y Querétaro brilla más. Y cuando le ponemos el doble de experiencia, los resultados se ven y se sienten. Somos Lupita Murguía y Agustín Dorantes. Y cuentas con nuestro doble compromiso para que a Querétaro y a tu familia les vaya mejor. Lupita Murguía y Agustín Dorantes, candidatos al Senado por Querétaro. Coalición, fuerza y corazón por México. Por un México sin miedo. Llegó la hora de avanzar. Vota PAN.\n",
            "True\n",
            " Los sonorenses no perdonamos las mentiras. No hay salud como en Dinamarca, no hay apoyo al campo, la gasolina subió, nos quitaron el fondo minero y no hay abrazos, pero sí más balazos. Tenemos que corregirlo todo. En Sonora no aceptamos más mentiras. Vamos por la verdad. Lili Telles, candidata al Senado por Sonora de la coalición Fuerza y Corazón por México. Por un México sin miedo llegó la hora del cambio. Vota PAN. Vota PAN.\n",
            "True\n",
            " Es angustiante que los enfermos estén en banquetas y pasillos de hospitales o sin citas, sin estudios de laboratorios ni radiografías, sin material de curación ni medicinas. Propongo regresarle el dinero al sistema de salud y darle más, todo lo que se necesite. En Sonora ya no esperaremos por salud, vamos por ella. Lili Tellez, candidata al Senado por Sonora de la coalición Fuerza y Corazón por México. Por un México sin miedo llegó la hora del cambio. Vota PAN. Vota PAN.\n",
            "True\n",
            " Porque tú mereces más. El apoyo para adultos mayores comenzará a partir de los 60 años. Soy Imelda Sanmiguel y quiero ser tu senadora. Porque mereces un Tamaulipas con seguro popular, un México con apoyos para el campo, un México de guarderías y escuelas de tiempo completo para tus hijos. Un México sin corrupción. Y sobre todo, un Tamaulipas con tranquilidad y seguridad. Imelda Sanmiguel, candidata a senadora por Tamaulipas. Coalición, fuerza y corazón por México. Por un México sin miedo, llegó la hora del cambio. Votapan. Imelda Sanmiguel.\n",
            "True\n",
            " de la ciudad de Sonora. La ciudad de Sonora.\n",
            "True\n",
            " de la ciudad de Sonora. Gracias.\n",
            "True\n",
            " Guerrero hace honor a su nombre. Somos gente trabajadora que siempre busca superar. El apoyo de adulto mayor es bueno, pero se nos van en pagar medicina. Necesitamos más para salir adelante más rápido. Para tener paz. Para que nuestros hijos tengan un mejor futuro. Hoy comienza una nueva historia para Guerrero. Una historia de esperanza. Porque tú mereces vivir en paz y mejor. Manuel Añor, candidato a senador. Fuerza y corazón por México por el estado de Guerrero. PRI, PAN, PRD. La opción ciudadana. POTA PRD.\n",
            "True\n",
            " Como senadora del PRD, mi compromiso es que todos los programas sociales que ya existen, continúen. Que recuperemos programas, apoyos y servicios de calidad, sobre todo en salud y educación. Votar por el PRD es el camino y la opción que tenemos las y los ciudadanos que queremos ponerle un alto a la destrucción y retroceso que ha significado Morena para el país. Vota PRD. Sara Ladrón de Guevara, candidata de la coalición Fuerza y Corazón por México al Senado por el Estado de Veracruz. La opción ciudadana. Vota PRD. Vota PRD.\n",
            "True\n",
            " Como diputada del PRD, mi compromiso es que todos los programas sociales que ya existen, continúen. Que recuperemos programas, apoyos y servicios de calidad, sobre todo en salud y educación. Votar por el PRD es el camino y la opción que tenemos las y los ciudadanos que queremos ponerle un alto a la destrucción y retroceso que ha significado Morena para el país. Vota por el PRD. Viviana Elena Cruz, candidata de la coalición Fuerza y Corazón por México del Distrito 21 del Estado de México. La opción ciudadana. Vota PRD.\n",
            "True\n",
            " Guerrero hace honor a su nombre. Somos gente trabajadora que siempre busca superarse. Para que las mujeres vivamos libres de violencia. Para que nuestros hijos puedan salir a la calle sin miedo. Para tener paz. Hoy comienza una nueva historia para Guerrero. Una historia de esperanza. Porque mereces vivir sin miedo y mejor. Manuel Añorbe, candidato a senador. Fuerza y corazón por México por el estado de Guerrero. PRI, PAN, PRD. La opción ciudadana. Vota PRD.\n",
            "True\n",
            " Guerrero a Sonora su nombre. Somos gente trabajadora que siempre busca superarse. Los apoyos sociales son de gran ayuda, pero no son suficientes. Queremos que las becas rindan más. Que los apoyos rindan más. Queremos poder alimentar bien a nuestros hijos. Por eso voy a seguir insistiendo que la pensión de adultos mayores baje de 68 años a 60. Manuel Añorbe, candidato a senador. Coalición Fuerza y Corazón por México por el Estado de Guerrero. PRI, PAN, PRD. El PRI si resuelve. Vota PRI. PRI, PAN, PRD.\n",
            "True\n",
            " de la ciudad de México. Gracias.\n",
            "True\n",
            " Guerrero hace honor a su nombre. Somos gente trabajadora que siempre busca superar. El apoyo de adulto mayor es bueno, pero se nos van en pagar medicina. Necesitamos más para salir adelante más rápido. Para tener paz. Para que nuestros hijos tengan un mejor futuro. Hoy comienza una nueva historia para Guerrero. Una historia de esperanza, porque tú mereces vivir en paz y mejor. Manuel Añor, candidato a senador. Fuerza y corazón por México por el estado de Guerrero. PRI, PAN, PRD. El PRI si resuelve. Vota PRI. Vota PRI.\n",
            "True\n",
            " Ya verás que no tardo. Esto no puede seguir ocurriendo por la incompetencia de Morena. No podemos permitir que el miedo y la incertidumbre se apoderen de nuestras familias. Te pido tu confianza para dar los resultados que tú y tu familia se merecen. Por eso quiero ser tu senador, para que juntos construyamos un futuro con rumbo para todas y todos. Néstor Camarillo, candidato a senador de Puebla por la coalición Fuerza y Corazón por México. El PRI si resuelve. Vota PRI. Vota PRI.\n",
            "True\n",
            " Yo he vivido la inseguridad en carne propia. He tenido que dejar todo y arriesgar todo para salir adelante. Ya no quiero vivir así. Es momento de unir fuerzas y con resultados, construir un presente y un futuro donde la prosperidad, la armonía y la convivencia sean una realidad. Vamos por un Tamaulipas sin miedo. Soy Arturo Núñez Ruiz y quiero ser tu senador. Arturo Núñez Ruiz, candidato a senador por Tamaulipas. Coalición Fuerza y Corazón por México. El PRI si resuelve. Vota PRI.\n",
            "True\n",
            " El domingo 2 de junio, vota para que el Seguro Popular regrese y abastezca de medicamentos a los hospitales públicos. Para que tu familia y tú sean atendidos como se merecen. Para que vuelvan los apoyos de Prospera y las escuelas de tiempo completo, donde cuiden, alimenten y eduquen a tus hijos. Vota para que bajemos la pensión de adultos mayores de 65 a 60 años. Tú mereces vivir sin miedo. Vota Manuela Ñorbe. Manuela Ñorbe, candidato a senador. Coalición Fuerza y Corazón por México por el Estado de Guerrero. PRI-PAN-PRD. El PRI se resuelve. Vota PRI.\n",
            "True\n",
            " Estado que gobierna Molina es un estado donde se desata la violencia. La inseguridad y criminalidad explota, afectando la vida de cada mexicana y mexicano y arrasando con la paz que algún día tuvieron. Si los dejamos gobernar, ellos nos dejarán sin país. Es momento de tener tolerancia cero con la delincuencia. El PRI si resuelve. Vota PRI. Vota por las candidatas a diputadas federales y senadoras de Fuerza y Corazón por México del PRI. Vota por las candidatas a diputadas federales y senadoras de Fuerza y Corazón por México del PRI.\n",
            "True\n",
            " Yucatán es un estado excepcional por tu trabajo, el de tu familia y amigos. Yucatán es distinto y mejor porque tenemos mucha identidad. Ahora toca completar la tarea. El próximo 2 de junio, vota PRI en las seis boletas. A Yucatán lo hacen fuerte su participación ciudadana y su fuerza y corazón. Rolando Zapata Bello, candidato a senador por Yucatán. Coalición Fuerza y Corazón por México. El PRI si resuelve. Vota PRI. Vota PRI.\n",
            "True\n",
            " Hay que sumar a Jalisco al cambio verdadero. Este 2 de junio, vota por el Partido del Trabajo. Para defender y ampliar los programas sociales, vota por las y los candidatos del Partido del Trabajo. Vota todo PT para que las y los trabajadores tengan un hogar digno a precios razonables. Para que a Jalisco lleguen los grandes proyectos y el bienestar compartido, vota por el Partido del Trabajo. Coalición, sigamos haciendo historia. Vota candidatas diputadas federales del PT. Vota por la Cámara de Diputados.\n",
            "True\n",
            " Soy tu amigo Melgar, un chapaneco honesto, orgulloso de sus raíces. Ya son más de 12 años caminando, escuchando y conociendo las necesidades del pueblo. Porque no hay como la confianza ganada y mantenerla es lo más importante. En verde, en la nueva era, significa más apoyos sociales y más apoyos productivos para ti. Para que a Chiapas le vaya bien, hay que hacer las cosas bien. J. Melgar, candidato al Senado de la República por el Partido Verde. Gracias.\n"
          ]
        }
      ]
    }
  ],
  "metadata": {
    "colab": {
      "provenance": [],
      "gpuType": "T4"
    },
    "kernelspec": {
      "display_name": "Python 3",
      "name": "python3"
    },
    "language_info": {
      "name": "python"
    },
    "accelerator": "GPU"
  },
  "nbformat": 4,
  "nbformat_minor": 0
}